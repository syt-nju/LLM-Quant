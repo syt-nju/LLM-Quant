{
 "cells": [
  {
   "cell_type": "code",
   "execution_count": 1,
   "metadata": {},
   "outputs": [
    {
     "name": "stdout",
     "output_type": "stream",
     "text": [
      "time: 0 ns (started: 2025-01-29 00:44:47 +08:00)\n"
     ]
    }
   ],
   "source": [
    "\n",
    "%load_ext autotime"
   ]
  },
  {
   "cell_type": "code",
   "execution_count": 2,
   "metadata": {},
   "outputs": [
    {
     "name": "stdout",
     "output_type": "stream",
     "text": [
      "time: 125 ms (started: 2025-01-29 00:44:47 +08:00)\n"
     ]
    }
   ],
   "source": [
    "import numpy as np"
   ]
  },
  {
   "cell_type": "code",
   "execution_count": 3,
   "metadata": {},
   "outputs": [
    {
     "name": "stdout",
     "output_type": "stream",
     "text": [
      "time: 0 ns (started: 2025-01-29 00:44:47 +08:00)\n"
     ]
    }
   ],
   "source": [
    "seed=42\n",
    "target_bit_width = 8\n",
    "np.random.seed(seed)"
   ]
  },
  {
   "cell_type": "code",
   "execution_count": 4,
   "metadata": {},
   "outputs": [
    {
     "name": "stdout",
     "output_type": "stream",
     "text": [
      "time: 0 ns (started: 2025-01-29 00:44:47 +08:00)\n"
     ]
    }
   ],
   "source": [
    "class Quantizer:\n",
    "    \"\"\"量化器的base类\"\"\"\n",
    "    def __init__(self):\n",
    "        self.bit_width = target_bit_width\n",
    "        self.max_value = 2 ** (target_bit_width - 1) - 1\n",
    "        self.min_value = -2 ** (target_bit_width - 1)\n",
    "    def compress(self, data):\n",
    "        raise NotImplementedError\n",
    "    def decompress(self, compressed_data):\n",
    "        raise NotImplementedError"
   ]
  },
  {
   "cell_type": "code",
   "execution_count": 5,
   "metadata": {},
   "outputs": [
    {
     "name": "stdout",
     "output_type": "stream",
     "text": [
      "time: 0 ns (started: 2025-01-29 00:44:47 +08:00)\n"
     ]
    }
   ],
   "source": [
    "class AbsQuantizer(Quantizer):\n",
    "    \"\"\"绝对值量化器\"\"\"\n",
    "    \n",
    "    def compress(self, data):\n",
    "        scale=np.divide(self.max_value, np.max(np.abs(data)))\n",
    "        self.scale=scale\n",
    "        return np.round(np.multiply(data, scale)).astype(np.int8)\n",
    "    \n",
    "    def decompress(self, compressed_data):\n",
    "        return  np.divide(compressed_data, self.scale).astype(np.float32)"
   ]
  },
  {
   "cell_type": "code",
   "execution_count": 6,
   "metadata": {},
   "outputs": [
    {
     "name": "stdout",
     "output_type": "stream",
     "text": [
      "time: 0 ns (started: 2025-01-29 00:44:47 +08:00)\n"
     ]
    }
   ],
   "source": [
    "class BiasQuantizer(Quantizer):\n",
    "    \"\"\"偏置量化器\"\"\"\n",
    "    \n",
    "    def compress(self, data):\n",
    "        scale=np.divide(self.max_value-self.min_value, np.max(data)-np.min(data))\n",
    "        self.scale=scale\n",
    "        bias=-scale*np.min(data)+self.min_value\n",
    "        self.bias=bias\n",
    "        return np.round(np.multiply(data, scale)+bias).astype(np.int8)\n",
    "    \n",
    "    def decompress(self, compressed_data):\n",
    "        return  np.divide(compressed_data-self.bias, self.scale).astype(np.float32)"
   ]
  },
  {
   "cell_type": "code",
   "execution_count": 7,
   "metadata": {},
   "outputs": [
    {
     "name": "stdout",
     "output_type": "stream",
     "text": [
      "time: 0 ns (started: 2025-01-29 00:44:47 +08:00)\n"
     ]
    }
   ],
   "source": [
    "class OutlierQuantizer(Quantizer):\n",
    "    \"\"\"\n",
    "        离群点量化器，以均值5倍标准差为判断标准来映射数据，多余的点视为离群点直接取最大的值\n",
    "    \"\"\"\n",
    "    def compress(self, data):\n",
    "        mean = np.mean(data)\n",
    "        std = np.std(data)\n",
    "        max_value = mean + 5 * std\n",
    "        min_value = mean - 5 * std\n",
    "        data = np.clip(data, min_value, max_value)\n",
    "        scale=np.divide(self.max_value-self.min_value, np.max(data)-np.min(data))\n",
    "        bias=-scale*np.min(data)+self.min_value\n",
    "        self.scale=scale\n",
    "        self.bias=bias\n",
    "        return np.round(np.multiply(data, scale)+bias).astype(np.int8)    \n",
    "    def decompress(self, compressed_data):\n",
    "        return  np.divide(compressed_data-self.bias, self.scale).astype(np.float32)"
   ]
  },
  {
   "cell_type": "code",
   "execution_count": 8,
   "metadata": {},
   "outputs": [
    {
     "name": "stdout",
     "output_type": "stream",
     "text": [
      "time: 0 ns (started: 2025-01-29 00:44:47 +08:00)\n"
     ]
    }
   ],
   "source": [
    "def test_quantizer(quantizer, data,loss_func:str=\"mse\"):\n",
    "    compressed_data = quantizer.compress(data)\n",
    "    decompressed_data = quantizer.decompress(compressed_data)\n",
    "    # print(\"data: \", data[0])\n",
    "    # print(\"compressed_data: \", compressed_data[:10])\n",
    "    # print(\"decompressed_data: \", decompressed_data[0])\n",
    "    if loss_func==\"mse\":\n",
    "        loss = np.mean((data - decompressed_data) ** 2)\n",
    "        # print(\"mse loss: \", loss)\n",
    "        return loss\n",
    "    "
   ]
  },
  {
   "cell_type": "code",
   "execution_count": 9,
   "metadata": {},
   "outputs": [
    {
     "name": "stdout",
     "output_type": "stream",
     "text": [
      "time: 15 ms (started: 2025-01-29 00:44:47 +08:00)\n"
     ]
    }
   ],
   "source": [
    "class DataGenerator():\n",
    "    #使用五个均值和方差都随机的正太分布组装分布\n",
    "    def generate(self, seed=42):\n",
    "        np.random.seed(seed)\n",
    "        means=np.random.randint(-100,100,5)\n",
    "        stds=np.random.randint(1,100,5)\n",
    "        datas=[np.random.normal(mean,std,1000) for mean,std in zip(means,stds)]\n",
    "        data=np.sum(datas,axis=0)\n",
    "        return data\n",
    "\n",
    "\n",
    "\n",
    "\n"
   ]
  },
  {
   "cell_type": "code",
   "execution_count": 10,
   "metadata": {},
   "outputs": [
    {
     "name": "stdout",
     "output_type": "stream",
     "text": [
      "mse_losses:  [[1.53436625594094, 0.8909978094086369, 0.8909978094086369], [0.7687408647053299, 0.6863780440369206, 0.6863780440369206], [1.7360935731555251, 0.8246231082894205, 0.8246231082894205], [0.8265463259582189, 0.5597754552316597, 0.5597754552316597], [3.93421925595168, 1.3962817887041035, 1.3962817887041035], [1.7845054047407878, 0.8965943953380086, 0.8965943953380086], [1.9365457021397399, 1.2169501104007778, 1.2169501104007778], [1.490504326336354, 0.9518480751379139, 0.9518480751379139], [2.5600954698047853, 1.5645006912635084, 1.5645006912635084], [0.8113615299674852, 0.5779864663351375, 0.5779864663351375]]\n",
      "time: 0 ns (started: 2025-01-29 00:44:47 +08:00)\n"
     ]
    }
   ],
   "source": [
    "#0:绝对值量化器 1:偏置量化器 2:离群点量化器 \n",
    "Quantizers=[AbsQuantizer(),BiasQuantizer(),OutlierQuantizer()]\n",
    "seeds=range(10)\n",
    "datas=[DataGenerator().generate(seed) for seed in seeds]\n",
    "losses=[]\n",
    "for data in datas:\n",
    "    mse_losses=[]\n",
    "    for quantizer in Quantizers:\n",
    "        mse_loss=test_quantizer(quantizer, data)\n",
    "        mse_losses.append(mse_loss)\n",
    "    losses.append(mse_losses)\n",
    "print(\"mse_losses: \", losses)"
   ]
  },
  {
   "cell_type": "code",
   "execution_count": 11,
   "metadata": {},
   "outputs": [
    {
     "data": {
      "image/png": "[encoded data removed]",
      "text/plain": [
       "<Figure size 640x480 with 1 Axes>"
      ]
     },
     "metadata": {},
     "output_type": "display_data"
    },
    {
     "name": "stdout",
     "output_type": "stream",
     "text": [
      "time: 1.69 s (started: 2025-01-29 00:45:22 +08:00)\n"
     ]
    }
   ],
   "source": [
    "#构造图表\n",
    "import matplotlib.pyplot as plt\n",
    "import pandas as pd\n",
    "df=pd.DataFrame(losses,columns=[\"AbsQuantizer\",\"BiasQuantizer\",\"OutlierQuantizer\"])\n",
    "df.plot(kind='bar')\n",
    "plt.show()"
   ]
  },
  {
   "cell_type": "markdown",
   "metadata": {},
   "source": [
    "## 初步结论\n",
    "对于这种相对规范的没什么离群点的数据，采用bias 线性量化就足够好了，outlier 线性量化器与bias的差别关键在于对离群范围的设置上，在这种随便用正态分布合成的相对规整的数据上二者表现相近,但是后者相当于多了个调超参的过程。\n",
    "\n",
    "## 不足\n",
    "测试数据与实际情况不符，需要进一步的实验"
   ]
  }
 ],
 "metadata": {
  "kernelspec": {
   "display_name": "pytor-basic",
   "language": "python",
   "name": "python3"
  },
  "language_info": {
   "codemirror_mode": {
    "name": "ipython",
    "version": 3
   },
   "file_extension": ".py",
   "mimetype": "text/x-python",
   "name": "python",
   "nbconvert_exporter": "python",
   "pygments_lexer": "ipython3",
   "version": "3.11.4"
  }
 },
 "nbformat": 4,
 "nbformat_minor": 2
}
